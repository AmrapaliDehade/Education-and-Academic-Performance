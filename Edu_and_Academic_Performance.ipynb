{
 "cells": [
  {
   "cell_type": "code",
   "execution_count": 1,
   "id": "0c9d7be6-2553-4884-81f7-a8efde2e0edb",
   "metadata": {},
   "outputs": [],
   "source": [
    "import numpy as np\n",
    "import pandas as pd\n",
    "import matplotlib.pyplot as plt #visualing data\n",
    "%matplotlib inline\n",
    "import seaborn as sns"
   ]
  },
  {
   "cell_type": "code",
   "execution_count": 3,
   "id": "24daacd8-7557-4386-b247-9aa8a1a1d8d8",
   "metadata": {},
   "outputs": [],
   "source": [
    "# Reload the dataset with the correct delimiter\n",
    "df = pd.read_csv(r\"C:\\Users\\Amrapali\\Documents\\student-por.csv\", delimiter=';')"
   ]
  },
  {
   "cell_type": "code",
   "execution_count": 5,
   "id": "578daaeb-f103-4962-9480-4ba3ae9aab76",
   "metadata": {},
   "outputs": [
    {
     "data": {
      "text/html": [
       "<div>\n",
       "<style scoped>\n",
       "    .dataframe tbody tr th:only-of-type {\n",
       "        vertical-align: middle;\n",
       "    }\n",
       "\n",
       "    .dataframe tbody tr th {\n",
       "        vertical-align: top;\n",
       "    }\n",
       "\n",
       "    .dataframe thead th {\n",
       "        text-align: right;\n",
       "    }\n",
       "</style>\n",
       "<table border=\"1\" class=\"dataframe\">\n",
       "  <thead>\n",
       "    <tr style=\"text-align: right;\">\n",
       "      <th></th>\n",
       "      <th>school</th>\n",
       "      <th>sex</th>\n",
       "      <th>age</th>\n",
       "      <th>address</th>\n",
       "      <th>famsize</th>\n",
       "      <th>Pstatus</th>\n",
       "      <th>Medu</th>\n",
       "      <th>Fedu</th>\n",
       "      <th>Mjob</th>\n",
       "      <th>Fjob</th>\n",
       "      <th>...</th>\n",
       "      <th>famrel</th>\n",
       "      <th>freetime</th>\n",
       "      <th>goout</th>\n",
       "      <th>Dalc</th>\n",
       "      <th>Walc</th>\n",
       "      <th>health</th>\n",
       "      <th>absences</th>\n",
       "      <th>G1</th>\n",
       "      <th>G2</th>\n",
       "      <th>G3</th>\n",
       "    </tr>\n",
       "  </thead>\n",
       "  <tbody>\n",
       "    <tr>\n",
       "      <th>0</th>\n",
       "      <td>GP</td>\n",
       "      <td>F</td>\n",
       "      <td>18</td>\n",
       "      <td>U</td>\n",
       "      <td>GT3</td>\n",
       "      <td>A</td>\n",
       "      <td>4</td>\n",
       "      <td>4</td>\n",
       "      <td>at_home</td>\n",
       "      <td>teacher</td>\n",
       "      <td>...</td>\n",
       "      <td>4</td>\n",
       "      <td>3</td>\n",
       "      <td>4</td>\n",
       "      <td>1</td>\n",
       "      <td>1</td>\n",
       "      <td>3</td>\n",
       "      <td>4</td>\n",
       "      <td>0</td>\n",
       "      <td>11</td>\n",
       "      <td>11</td>\n",
       "    </tr>\n",
       "    <tr>\n",
       "      <th>1</th>\n",
       "      <td>GP</td>\n",
       "      <td>F</td>\n",
       "      <td>17</td>\n",
       "      <td>U</td>\n",
       "      <td>GT3</td>\n",
       "      <td>T</td>\n",
       "      <td>1</td>\n",
       "      <td>1</td>\n",
       "      <td>at_home</td>\n",
       "      <td>other</td>\n",
       "      <td>...</td>\n",
       "      <td>5</td>\n",
       "      <td>3</td>\n",
       "      <td>3</td>\n",
       "      <td>1</td>\n",
       "      <td>1</td>\n",
       "      <td>3</td>\n",
       "      <td>2</td>\n",
       "      <td>9</td>\n",
       "      <td>11</td>\n",
       "      <td>11</td>\n",
       "    </tr>\n",
       "    <tr>\n",
       "      <th>2</th>\n",
       "      <td>GP</td>\n",
       "      <td>F</td>\n",
       "      <td>15</td>\n",
       "      <td>U</td>\n",
       "      <td>LE3</td>\n",
       "      <td>T</td>\n",
       "      <td>1</td>\n",
       "      <td>1</td>\n",
       "      <td>at_home</td>\n",
       "      <td>other</td>\n",
       "      <td>...</td>\n",
       "      <td>4</td>\n",
       "      <td>3</td>\n",
       "      <td>2</td>\n",
       "      <td>2</td>\n",
       "      <td>3</td>\n",
       "      <td>3</td>\n",
       "      <td>6</td>\n",
       "      <td>12</td>\n",
       "      <td>13</td>\n",
       "      <td>12</td>\n",
       "    </tr>\n",
       "    <tr>\n",
       "      <th>3</th>\n",
       "      <td>GP</td>\n",
       "      <td>F</td>\n",
       "      <td>15</td>\n",
       "      <td>U</td>\n",
       "      <td>GT3</td>\n",
       "      <td>T</td>\n",
       "      <td>4</td>\n",
       "      <td>2</td>\n",
       "      <td>health</td>\n",
       "      <td>services</td>\n",
       "      <td>...</td>\n",
       "      <td>3</td>\n",
       "      <td>2</td>\n",
       "      <td>2</td>\n",
       "      <td>1</td>\n",
       "      <td>1</td>\n",
       "      <td>5</td>\n",
       "      <td>0</td>\n",
       "      <td>14</td>\n",
       "      <td>14</td>\n",
       "      <td>14</td>\n",
       "    </tr>\n",
       "    <tr>\n",
       "      <th>4</th>\n",
       "      <td>GP</td>\n",
       "      <td>F</td>\n",
       "      <td>16</td>\n",
       "      <td>U</td>\n",
       "      <td>GT3</td>\n",
       "      <td>T</td>\n",
       "      <td>3</td>\n",
       "      <td>3</td>\n",
       "      <td>other</td>\n",
       "      <td>other</td>\n",
       "      <td>...</td>\n",
       "      <td>4</td>\n",
       "      <td>3</td>\n",
       "      <td>2</td>\n",
       "      <td>1</td>\n",
       "      <td>2</td>\n",
       "      <td>5</td>\n",
       "      <td>0</td>\n",
       "      <td>11</td>\n",
       "      <td>13</td>\n",
       "      <td>13</td>\n",
       "    </tr>\n",
       "    <tr>\n",
       "      <th>5</th>\n",
       "      <td>GP</td>\n",
       "      <td>M</td>\n",
       "      <td>16</td>\n",
       "      <td>U</td>\n",
       "      <td>LE3</td>\n",
       "      <td>T</td>\n",
       "      <td>4</td>\n",
       "      <td>3</td>\n",
       "      <td>services</td>\n",
       "      <td>other</td>\n",
       "      <td>...</td>\n",
       "      <td>5</td>\n",
       "      <td>4</td>\n",
       "      <td>2</td>\n",
       "      <td>1</td>\n",
       "      <td>2</td>\n",
       "      <td>5</td>\n",
       "      <td>6</td>\n",
       "      <td>12</td>\n",
       "      <td>12</td>\n",
       "      <td>13</td>\n",
       "    </tr>\n",
       "    <tr>\n",
       "      <th>6</th>\n",
       "      <td>GP</td>\n",
       "      <td>M</td>\n",
       "      <td>16</td>\n",
       "      <td>U</td>\n",
       "      <td>LE3</td>\n",
       "      <td>T</td>\n",
       "      <td>2</td>\n",
       "      <td>2</td>\n",
       "      <td>other</td>\n",
       "      <td>other</td>\n",
       "      <td>...</td>\n",
       "      <td>4</td>\n",
       "      <td>4</td>\n",
       "      <td>4</td>\n",
       "      <td>1</td>\n",
       "      <td>1</td>\n",
       "      <td>3</td>\n",
       "      <td>0</td>\n",
       "      <td>13</td>\n",
       "      <td>12</td>\n",
       "      <td>13</td>\n",
       "    </tr>\n",
       "    <tr>\n",
       "      <th>7</th>\n",
       "      <td>GP</td>\n",
       "      <td>F</td>\n",
       "      <td>17</td>\n",
       "      <td>U</td>\n",
       "      <td>GT3</td>\n",
       "      <td>A</td>\n",
       "      <td>4</td>\n",
       "      <td>4</td>\n",
       "      <td>other</td>\n",
       "      <td>teacher</td>\n",
       "      <td>...</td>\n",
       "      <td>4</td>\n",
       "      <td>1</td>\n",
       "      <td>4</td>\n",
       "      <td>1</td>\n",
       "      <td>1</td>\n",
       "      <td>1</td>\n",
       "      <td>2</td>\n",
       "      <td>10</td>\n",
       "      <td>13</td>\n",
       "      <td>13</td>\n",
       "    </tr>\n",
       "    <tr>\n",
       "      <th>8</th>\n",
       "      <td>GP</td>\n",
       "      <td>M</td>\n",
       "      <td>15</td>\n",
       "      <td>U</td>\n",
       "      <td>LE3</td>\n",
       "      <td>A</td>\n",
       "      <td>3</td>\n",
       "      <td>2</td>\n",
       "      <td>services</td>\n",
       "      <td>other</td>\n",
       "      <td>...</td>\n",
       "      <td>4</td>\n",
       "      <td>2</td>\n",
       "      <td>2</td>\n",
       "      <td>1</td>\n",
       "      <td>1</td>\n",
       "      <td>1</td>\n",
       "      <td>0</td>\n",
       "      <td>15</td>\n",
       "      <td>16</td>\n",
       "      <td>17</td>\n",
       "    </tr>\n",
       "    <tr>\n",
       "      <th>9</th>\n",
       "      <td>GP</td>\n",
       "      <td>M</td>\n",
       "      <td>15</td>\n",
       "      <td>U</td>\n",
       "      <td>GT3</td>\n",
       "      <td>T</td>\n",
       "      <td>3</td>\n",
       "      <td>4</td>\n",
       "      <td>other</td>\n",
       "      <td>other</td>\n",
       "      <td>...</td>\n",
       "      <td>5</td>\n",
       "      <td>5</td>\n",
       "      <td>1</td>\n",
       "      <td>1</td>\n",
       "      <td>1</td>\n",
       "      <td>5</td>\n",
       "      <td>0</td>\n",
       "      <td>12</td>\n",
       "      <td>12</td>\n",
       "      <td>13</td>\n",
       "    </tr>\n",
       "  </tbody>\n",
       "</table>\n",
       "<p>10 rows × 33 columns</p>\n",
       "</div>"
      ],
      "text/plain": [
       "  school sex  age address famsize Pstatus  Medu  Fedu      Mjob      Fjob  \\\n",
       "0     GP   F   18       U     GT3       A     4     4   at_home   teacher   \n",
       "1     GP   F   17       U     GT3       T     1     1   at_home     other   \n",
       "2     GP   F   15       U     LE3       T     1     1   at_home     other   \n",
       "3     GP   F   15       U     GT3       T     4     2    health  services   \n",
       "4     GP   F   16       U     GT3       T     3     3     other     other   \n",
       "5     GP   M   16       U     LE3       T     4     3  services     other   \n",
       "6     GP   M   16       U     LE3       T     2     2     other     other   \n",
       "7     GP   F   17       U     GT3       A     4     4     other   teacher   \n",
       "8     GP   M   15       U     LE3       A     3     2  services     other   \n",
       "9     GP   M   15       U     GT3       T     3     4     other     other   \n",
       "\n",
       "   ... famrel freetime  goout  Dalc  Walc health absences  G1  G2  G3  \n",
       "0  ...      4        3      4     1     1      3        4   0  11  11  \n",
       "1  ...      5        3      3     1     1      3        2   9  11  11  \n",
       "2  ...      4        3      2     2     3      3        6  12  13  12  \n",
       "3  ...      3        2      2     1     1      5        0  14  14  14  \n",
       "4  ...      4        3      2     1     2      5        0  11  13  13  \n",
       "5  ...      5        4      2     1     2      5        6  12  12  13  \n",
       "6  ...      4        4      4     1     1      3        0  13  12  13  \n",
       "7  ...      4        1      4     1     1      1        2  10  13  13  \n",
       "8  ...      4        2      2     1     1      1        0  15  16  17  \n",
       "9  ...      5        5      1     1     1      5        0  12  12  13  \n",
       "\n",
       "[10 rows x 33 columns]"
      ]
     },
     "execution_count": 5,
     "metadata": {},
     "output_type": "execute_result"
    }
   ],
   "source": [
    "# Display the first few rows of the dataset\n",
    "df.head(10)"
   ]
  },
  {
   "cell_type": "code",
   "execution_count": 7,
   "id": "9484cfa6-c686-42ca-9944-dcdc2f4b4e11",
   "metadata": {},
   "outputs": [
    {
     "name": "stdout",
     "output_type": "stream",
     "text": [
      "<class 'pandas.core.frame.DataFrame'>\n",
      "RangeIndex: 649 entries, 0 to 648\n",
      "Data columns (total 33 columns):\n",
      " #   Column      Non-Null Count  Dtype \n",
      "---  ------      --------------  ----- \n",
      " 0   school      649 non-null    object\n",
      " 1   sex         649 non-null    object\n",
      " 2   age         649 non-null    int64 \n",
      " 3   address     649 non-null    object\n",
      " 4   famsize     649 non-null    object\n",
      " 5   Pstatus     649 non-null    object\n",
      " 6   Medu        649 non-null    int64 \n",
      " 7   Fedu        649 non-null    int64 \n",
      " 8   Mjob        649 non-null    object\n",
      " 9   Fjob        649 non-null    object\n",
      " 10  reason      649 non-null    object\n",
      " 11  guardian    649 non-null    object\n",
      " 12  traveltime  649 non-null    int64 \n",
      " 13  studytime   649 non-null    int64 \n",
      " 14  failures    649 non-null    int64 \n",
      " 15  schoolsup   649 non-null    object\n",
      " 16  famsup      649 non-null    object\n",
      " 17  paid        649 non-null    object\n",
      " 18  activities  649 non-null    object\n",
      " 19  nursery     649 non-null    object\n",
      " 20  higher      649 non-null    object\n",
      " 21  internet    649 non-null    object\n",
      " 22  romantic    649 non-null    object\n",
      " 23  famrel      649 non-null    int64 \n",
      " 24  freetime    649 non-null    int64 \n",
      " 25  goout       649 non-null    int64 \n",
      " 26  Dalc        649 non-null    int64 \n",
      " 27  Walc        649 non-null    int64 \n",
      " 28  health      649 non-null    int64 \n",
      " 29  absences    649 non-null    int64 \n",
      " 30  G1          649 non-null    int64 \n",
      " 31  G2          649 non-null    int64 \n",
      " 32  G3          649 non-null    int64 \n",
      "dtypes: int64(16), object(17)\n",
      "memory usage: 167.4+ KB\n"
     ]
    }
   ],
   "source": [
    "df.info()"
   ]
  },
  {
   "cell_type": "code",
   "execution_count": 11,
   "id": "a08d61b4-c8be-41d4-887b-882af0c7c097",
   "metadata": {},
   "outputs": [],
   "source": [
    "#drop the NA\n",
    "df.dropna(inplace=True)"
   ]
  },
  {
   "cell_type": "code",
   "execution_count": 13,
   "id": "c5b23756-fd6f-416b-bf05-ec768f300283",
   "metadata": {},
   "outputs": [
    {
     "name": "stdout",
     "output_type": "stream",
     "text": [
      "school        0\n",
      "sex           0\n",
      "age           0\n",
      "address       0\n",
      "famsize       0\n",
      "Pstatus       0\n",
      "Medu          0\n",
      "Fedu          0\n",
      "Mjob          0\n",
      "Fjob          0\n",
      "reason        0\n",
      "guardian      0\n",
      "traveltime    0\n",
      "studytime     0\n",
      "failures      0\n",
      "schoolsup     0\n",
      "famsup        0\n",
      "paid          0\n",
      "activities    0\n",
      "nursery       0\n",
      "higher        0\n",
      "internet      0\n",
      "romantic      0\n",
      "famrel        0\n",
      "freetime      0\n",
      "goout         0\n",
      "Dalc          0\n",
      "Walc          0\n",
      "health        0\n",
      "absences      0\n",
      "G1            0\n",
      "G2            0\n",
      "G3            0\n",
      "dtype: int64\n"
     ]
    }
   ],
   "source": [
    "# check for missing values using isnull\n",
    "missing_values = df.isnull().sum()\n",
    "print(missing_values)"
   ]
  },
  {
   "cell_type": "code",
   "execution_count": 17,
   "id": "9e3ad717-292a-4418-9ce2-95ae9a987926",
   "metadata": {},
   "outputs": [
    {
     "name": "stdout",
     "output_type": "stream",
     "text": [
      "school        object\n",
      "sex           object\n",
      "age            int64\n",
      "address       object\n",
      "famsize       object\n",
      "Pstatus       object\n",
      "Medu           int64\n",
      "Fedu           int64\n",
      "Mjob          object\n",
      "Fjob          object\n",
      "reason        object\n",
      "guardian      object\n",
      "traveltime     int64\n",
      "studytime      int64\n",
      "failures       int64\n",
      "schoolsup     object\n",
      "famsup        object\n",
      "paid          object\n",
      "activities    object\n",
      "nursery       object\n",
      "higher        object\n",
      "internet      object\n",
      "romantic      object\n",
      "famrel         int64\n",
      "freetime       int64\n",
      "goout          int64\n",
      "Dalc           int64\n",
      "Walc           int64\n",
      "health         int64\n",
      "absences       int64\n",
      "G1             int64\n",
      "G2             int64\n",
      "G3             int64\n",
      "dtype: object\n"
     ]
    }
   ],
   "source": [
    "#Check Data Types\n",
    "#Using the dtypes attribute to check the data types of each column in our DataFrame\n",
    "data_types = df.dtypes\n",
    "print(data_types)"
   ]
  },
  {
   "cell_type": "markdown",
   "id": "0b184214-f75d-40ab-ad4a-b79f09a1b774",
   "metadata": {},
   "source": [
    "Exploratory Data Analysis (EDA)"
   ]
  },
  {
   "cell_type": "markdown",
   "id": "2dc63ba3-a7bd-44a0-9359-d89cfb502662",
   "metadata": {},
   "source": [
    "Descriptive Statistics"
   ]
  },
  {
   "cell_type": "markdown",
   "id": "74aedc45-ca59-4f9a-af3a-1337b3ec4be1",
   "metadata": {},
   "source": [
    "1.Summary Statistics for Numerical Columns\n",
    "\n",
    "Using the describe() function to get a summary of the central tendency, dispersion, and shape of the distribution for numerical columns. \n",
    "This will provide you with the count, mean, standard deviation, minimum, quartiles, and maximum for each numerical column.\n"
   ]
  },
  {
   "cell_type": "code",
   "execution_count": 32,
   "id": "e3c3ee3b-38fe-471f-8837-a61637f90553",
   "metadata": {},
   "outputs": [
    {
     "name": "stdout",
     "output_type": "stream",
     "text": [
      "              age        Medu        Fedu  traveltime   studytime    failures  \\\n",
      "count  649.000000  649.000000  649.000000  649.000000  649.000000  649.000000   \n",
      "mean    16.744222    2.514638    2.306626    1.568567    1.930663    0.221880   \n",
      "std      1.218138    1.134552    1.099931    0.748660    0.829510    0.593235   \n",
      "min     15.000000    0.000000    0.000000    1.000000    1.000000    0.000000   \n",
      "25%     16.000000    2.000000    1.000000    1.000000    1.000000    0.000000   \n",
      "50%     17.000000    2.000000    2.000000    1.000000    2.000000    0.000000   \n",
      "75%     18.000000    4.000000    3.000000    2.000000    2.000000    0.000000   \n",
      "max     22.000000    4.000000    4.000000    4.000000    4.000000    3.000000   \n",
      "\n",
      "           famrel    freetime       goout        Dalc        Walc      health  \\\n",
      "count  649.000000  649.000000  649.000000  649.000000  649.000000  649.000000   \n",
      "mean     3.930663    3.180277    3.184900    1.502311    2.280431    3.536210   \n",
      "std      0.955717    1.051093    1.175766    0.924834    1.284380    1.446259   \n",
      "min      1.000000    1.000000    1.000000    1.000000    1.000000    1.000000   \n",
      "25%      4.000000    3.000000    2.000000    1.000000    1.000000    2.000000   \n",
      "50%      4.000000    3.000000    3.000000    1.000000    2.000000    4.000000   \n",
      "75%      5.000000    4.000000    4.000000    2.000000    3.000000    5.000000   \n",
      "max      5.000000    5.000000    5.000000    5.000000    5.000000    5.000000   \n",
      "\n",
      "         absences          G1          G2          G3  \n",
      "count  649.000000  649.000000  649.000000  649.000000  \n",
      "mean     3.659476   11.399076   11.570108   11.906009  \n",
      "std      4.640759    2.745265    2.913639    3.230656  \n",
      "min      0.000000    0.000000    0.000000    0.000000  \n",
      "25%      0.000000   10.000000   10.000000   10.000000  \n",
      "50%      2.000000   11.000000   11.000000   12.000000  \n",
      "75%      6.000000   13.000000   13.000000   14.000000  \n",
      "max     32.000000   19.000000   19.000000   19.000000  \n"
     ]
    }
   ],
   "source": [
    "numerical_summary = df.describe()\n",
    "print(numerical_summary)"
   ]
  },
  {
   "cell_type": "markdown",
   "id": "69fbc2d6-2be4-4473-a6b7-0403a1447d0d",
   "metadata": {},
   "source": [
    "2.Summary Statistics for catagorical colums \n",
    "For categorical variables (that you haven't converted to numerical yet), you can use the value_counts() function to see the distribution of each category.\n"
   ]
  },
  {
   "cell_type": "code",
   "execution_count": 40,
   "id": "f8e951ff-efab-4bb7-adfb-723a88c9b27c",
   "metadata": {},
   "outputs": [],
   "source": [
    "import pandas as pd"
   ]
  },
  {
   "cell_type": "code",
   "execution_count": 38,
   "id": "0783a8a8-89db-453d-9067-36aa759b50a6",
   "metadata": {},
   "outputs": [
    {
     "name": "stdout",
     "output_type": "stream",
     "text": [
      "activities\n",
      "no     334\n",
      "yes    315\n",
      "Name: count, dtype: int64\n"
     ]
    }
   ],
   "source": [
    "activities_count = df['activities'].value_counts()\n",
    "print(activities_count)"
   ]
  },
  {
   "cell_type": "markdown",
   "id": "f4f4b5bd-cef9-44a6-a121-faaaa76797f7",
   "metadata": {},
   "source": [
    "3. Next Steps: To understand the distribution of grades (G1, G2, G3), we'll create histograms.\n",
    "\n",
    "   The plt.subplot() function in Matplotlib is used to create a grid of subplots within a figure. It allows you to display multiple plots in a single      figure window, making it easier to compare and analyze different data visualizations."
   ]
  },
  {
   "cell_type": "code",
   "execution_count": 46,
   "id": "739eee03-2b51-4f11-9bd6-b1982a162f70",
   "metadata": {},
   "outputs": [
    {
     "data": {
      "image/png": "[encoded data removed]",
      "text/plain": [
       "<Figure size 1500x500 with 3 Axes>"
      ]
     },
     "metadata": {},
     "output_type": "display_data"
    }
   ],
   "source": [
    "#To better understand the distribution we will create histograms\n",
    "plt.figure(figsize=(15, 5))\n",
    "\n",
    "# Histogram for G1\n",
    "plt.subplot(1, 3, 1)\n",
    "plt.hist(df['G1'], bins=10, color='skyblue', edgecolor='black')\n",
    "plt.title('Distribution of G1 Grades')\n",
    "plt.xlabel('G1 Grade')\n",
    "plt.ylabel('Frequency')\n",
    "\n",
    "# Histogram for G2\n",
    "plt.subplot(1, 3, 2)\n",
    "plt.hist(df['G2'], bins=10, color='lightgreen', edgecolor='black')\n",
    "plt.title('Distribution of G2 Grades')\n",
    "plt.xlabel('G2 Grade')\n",
    "plt.ylabel('Frequency')\n",
    "\n",
    "# Histogram for G3\n",
    "plt.subplot(1, 3, 3)\n",
    "plt.hist(df['G3'], bins=10, color='salmon', edgecolor='black')\n",
    "plt.title('Distribution of G3 Grades')\n",
    "plt.xlabel('G3 Grade')\n",
    "plt.ylabel('Frequency')\n",
    "\n",
    "plt.tight_layout()\n",
    "plt.show()"
   ]
  },
  {
   "cell_type": "code",
   "execution_count": 48,
   "id": "8f04f46c-89ca-4460-934f-e91c4fea64f0",
   "metadata": {},
   "outputs": [],
   "source": [
    "# We see that it is a normal distribution"
   ]
  },
  {
   "cell_type": "markdown",
   "id": "5c0e75fb-582d-451e-9665-b9ed08499b32",
   "metadata": {},
   "source": [
    "Hypothesis Testing and Analysis"
   ]
  },
  {
   "cell_type": "markdown",
   "id": "c9d95644-215d-45f9-a31e-55fe3f3a9a89",
   "metadata": {},
   "source": [
    "To find out if there is a significant difference in grades between students who participate in extracurricular activities and those who don't, we can perform a statistical hypothesis test such as an independent t-test. \n",
    "This test compares the means of two independent groups (students who participate in activities and those who don't) to see if there is a statistically significant difference."
   ]
  },
  {
   "cell_type": "markdown",
   "id": "e9f96b85-1b1e-47e5-84ca-191546706f32",
   "metadata": {},
   "source": [
    "in Python using scipy for the t-test:"
   ]
  },
  {
   "cell_type": "code",
   "execution_count": 52,
   "id": "a7ee0689-8398-4c36-92c9-2cc316f2068b",
   "metadata": {},
   "outputs": [],
   "source": [
    "#Import necessary libraries:\n",
    "import pandas as pd\n",
    "from scipy import stats"
   ]
  },
  {
   "cell_type": "code",
   "execution_count": 58,
   "id": "7499dfc3-55f4-439b-ac0b-18598030b87d",
   "metadata": {},
   "outputs": [],
   "source": [
    "# Let's split the dataset into two groups: one for students who participate in activities and one for those who don’t for each group of grade (G1, G2, G3)\n",
    "activities_group = df[df['activities'] == True]['G1']\n",
    "no_activities_group = df[df['activities'] == False]['G1']\n"
   ]
  },
  {
   "cell_type": "code",
   "execution_count": 60,
   "id": "e082f862-f31e-4c9e-b5be-b2684da3c7c2",
   "metadata": {},
   "outputs": [],
   "source": [
    "activities_group = df[df['activities'] == True]['G2']\n",
    "no_activities_group = df[df['activities'] == False]['G2']"
   ]
  },
  {
   "cell_type": "code",
   "execution_count": 62,
   "id": "86d5e86d-e2d2-4300-a83d-1325610b08d3",
   "metadata": {},
   "outputs": [],
   "source": [
    "activities_group = df[df['activities'] == True]['G3']\n",
    "no_activities_group = df[df['activities'] == False]['G3']"
   ]
  },
  {
   "cell_type": "code",
   "execution_count": 64,
   "id": "27fb1a2c-785c-432e-bb6c-61913ce39937",
   "metadata": {},
   "outputs": [],
   "source": [
    "#Perform the Independent t-test:\n",
    "\n",
    "#Using the scipy.stats.ttest_ind() function to compare the means of the two groups:\n",
    "\n",
    "t_stat, p_value = stats.ttest_ind(activities_group, no_activities_group)\n"
   ]
  },
  {
   "cell_type": "raw",
   "id": "e02310b1-1ca5-4167-80f3-fdcf3aa78102",
   "metadata": {},
   "source": [
    "It is generally necessary to consider both the t-statistic and the p-value when interpreting the results of a t-test, because they provide complementary information\n",
    "\n",
    "The t-statistic tells you how large the difference between the means is, but you need the p-value to decide whether that difference is statistically significant or just due to random chance."
   ]
  },
  {
   "cell_type": "markdown",
   "id": "e55095a0-e37a-41b5-8360-781541e4a651",
   "metadata": {},
   "source": [
    "CONCLUSION:"
   ]
  },
  {
   "cell_type": "code",
   "execution_count": 66,
   "id": "f3a1bd86-e137-4314-9176-e8a380d21c7d",
   "metadata": {},
   "outputs": [
    {
     "name": "stdout",
     "output_type": "stream",
     "text": [
      "T-statistic: nan\n",
      "P-value: nan\n",
      "There is no significant difference in grades between students who participate in extracurricular activities and those who don’t.\n"
     ]
    }
   ],
   "source": [
    "# Print results\n",
    "print(f\"T-statistic: {t_stat}\")\n",
    "print(f\"P-value: {p_value}\")\n",
    "\n",
    "# Interpretation\n",
    "if p_value < 0.05:\n",
    "    print(\"There is a significant difference in grades between students who participate in extracurricular activities and those who don’t.\")\n",
    "else:\n",
    "    print(\"There is no significant difference in grades between students who participate in extracurricular activities and those who don’t.\")"
   ]
  },
  {
   "cell_type": "code",
   "execution_count": null,
   "id": "9411fc9f-c849-444d-aa5e-331fc9571abe",
   "metadata": {},
   "outputs": [],
   "source": []
  }
 ],
 "metadata": {
  "kernelspec": {
   "display_name": "Python 3 (ipykernel)",
   "language": "python",
   "name": "python3"
  },
  "language_info": {
   "codemirror_mode": {
    "name": "ipython",
    "version": 3
   },
   "file_extension": ".py",
   "mimetype": "text/x-python",
   "name": "python",
   "nbconvert_exporter": "python",
   "pygments_lexer": "ipython3",
   "version": "3.12.4"
  }
 },
 "nbformat": 4,
 "nbformat_minor": 5
}
